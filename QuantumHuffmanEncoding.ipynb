{
  "nbformat": 4,
  "nbformat_minor": 0,
  "metadata": {
    "colab": {
      "provenance": []
    },
    "kernelspec": {
      "name": "python3",
      "display_name": "Python 3"
    },
    "language_info": {
      "name": "python"
    }
  },
  "cells": [
    {
      "cell_type": "code",
      "source": [
        "# Packages\n",
        "from heapq import heappush, heappop\n",
        "from collections import Counter\n",
        "from typing import Dict, Tuple, List"
      ],
      "metadata": {
        "id": "5wiurvcJ1BeV"
      },
      "execution_count": 1,
      "outputs": []
    },
    {
      "cell_type": "code",
      "source": [
        "# Creating a class object to store attributes of the Huffman tree\n",
        "class Node:\n",
        "    def __init__(self, freq: int, char: str = None, left: 'Node' = None, right: 'Node' = None):\n",
        "        self.freq = freq\n",
        "        self.char = char\n",
        "        self.left = left\n",
        "        self.right = right\n",
        "\n",
        "    def __lt__(self, other: 'Node') -> bool:\n",
        "        return self.freq < other.freq"
      ],
      "metadata": {
        "id": "szFFwTum1Fn6"
      },
      "execution_count": 2,
      "outputs": []
    },
    {
      "cell_type": "code",
      "source": [
        "# Creating a function for encoding\n",
        "def huffman_encoding(message: str) -> Tuple[str, Dict[str, str]]:\n",
        "    # Create a dictionary of character frequencies\n",
        "    freq_dict = Counter(message)\n",
        "\n",
        "    # Create a priority queue of nodes\n",
        "    nodes = []\n",
        "    for char, freq in freq_dict.items():\n",
        "        nodes.append(Node(freq, char))\n",
        "\n",
        "    # Build the Huffman tree\n",
        "    while len(nodes) > 1:\n",
        "        node1 = heappop(nodes)\n",
        "        node2 = heappop(nodes)\n",
        "        parent = Node(node1.freq + node2.freq, left=node1, right=node2)\n",
        "        heappush(nodes, parent)\n",
        "\n",
        "    # Create a dictionary of character encodings\n",
        "    encodings = {}\n",
        "    def traverse(node: Node, code: str):\n",
        "        if node.char:\n",
        "            encodings[node.char] = code\n",
        "        else:\n",
        "            traverse(node.left, code + '0')\n",
        "            traverse(node.right, code + '1')\n",
        "    traverse(nodes[0], '')\n",
        "\n",
        "    # Encode the message using the dictionary of encodings\n",
        "    encoded = ''.join(encodings[char] for char in message)\n",
        "\n",
        "    return encoded, encodings"
      ],
      "metadata": {
        "id": "xikzSB1m1SP4"
      },
      "execution_count": 3,
      "outputs": []
    },
    {
      "cell_type": "code",
      "source": [
        "# Creating a function for decoding\n",
        "def huffman_decoding(encoded: str, encodings: Dict[str, str]) -> str:\n",
        "    # Create a dictionary of character decodings\n",
        "    decodings = {code: char for char, code in encodings.items()}\n",
        "\n",
        "    # Decode the message using the dictionary of decodings\n",
        "    decoded = ''\n",
        "    code = ''\n",
        "    for bit in encoded:\n",
        "        code += bit\n",
        "        if code in decodings:\n",
        "            decoded += decodings[code]\n",
        "            code = ''\n",
        "\n",
        "    return decoded"
      ],
      "metadata": {
        "id": "vne78MBD1lr6"
      },
      "execution_count": 4,
      "outputs": []
    },
    {
      "cell_type": "code",
      "source": [
        "# Creating quantum states out of encoded message\n",
        "def quantum_conversion(encoded: str) -> List[str]:\n",
        "    return [f'|{bit}>' for bit in encoded]"
      ],
      "metadata": {
        "id": "qXBUJWEH1vgC"
      },
      "execution_count": 5,
      "outputs": []
    },
    {
      "cell_type": "code",
      "source": [
        "# A DNA example - BGH polyA: https://www.algosome.com/resources/common-sequences.html\n",
        "dna_sequence = 'TGTGCCTTCTAGTTGCCAGCCATCTGTTGTTTGCCCCTCCCCCGTGCCTTCCTTGACCCTGGAAGGTGCCACTCCCACTGTCCTTTCCTAATAAAATGAGGAAATTGCATCGCATTGTCTGAGTAGGTGTCATTCTATTCTGGGGGGTGGGGTGGGGCAGGACAGCAAGGGGGAGGATTGGGAAGACAATAGCAGGCATGCTGGGGATGCGGTGGGCTCTATGGC'\n",
        "encoded, encodings = huffman_encoding(dna_sequence)\n",
        "print('Encoded DNA Sequence:', encoded)\n",
        "print('Encodings:', encodings)\n",
        "\n",
        "quantum_states = quantum_conversion(encoded)\n",
        "print('Quantum states:', quantum_states)"
      ],
      "metadata": {
        "colab": {
          "base_uri": "https://localhost:8080/"
        },
        "id": "YBEOlj_x1_E4",
        "outputId": "d2e21af1-b5af-4e1f-8da6-c0463e016aab"
      },
      "execution_count": 6,
      "outputs": [
        {
          "output_type": "stream",
          "name": "stdout",
          "text": [
            "Encoded DNA Sequence: 001100111010000010000111000011101001111010010010001100001100000011101010100010101010101100111010000010100000110110101000111101011111001110100110001010100110001100101000000010100001010001010101001101111101010100001110010010111001000011001000110111000111110011001001000010000100001000111111111111001111111100111111111001111101100111100101111111111101111101000011111101011101100101000111100111111001001110001111111101001110111100111111100010000100111110\n",
            "Encodings: {'T': '00', 'A': '01', 'C': '10', 'G': '11'}\n",
            "Quantum states: ['|0>', '|0>', '|1>', '|1>', '|0>', '|0>', '|1>', '|1>', '|1>', '|0>', '|1>', '|0>', '|0>', '|0>', '|0>', '|0>', '|1>', '|0>', '|0>', '|0>', '|0>', '|1>', '|1>', '|1>', '|0>', '|0>', '|0>', '|0>', '|1>', '|1>', '|1>', '|0>', '|1>', '|0>', '|0>', '|1>', '|1>', '|1>', '|1>', '|0>', '|1>', '|0>', '|0>', '|1>', '|0>', '|0>', '|1>', '|0>', '|0>', '|0>', '|1>', '|1>', '|0>', '|0>', '|0>', '|0>', '|1>', '|1>', '|0>', '|0>', '|0>', '|0>', '|0>', '|0>', '|1>', '|1>', '|1>', '|0>', '|1>', '|0>', '|1>', '|0>', '|1>', '|0>', '|0>', '|0>', '|1>', '|0>', '|1>', '|0>', '|1>', '|0>', '|1>', '|0>', '|1>', '|0>', '|1>', '|1>', '|0>', '|0>', '|1>', '|1>', '|1>', '|0>', '|1>', '|0>', '|0>', '|0>', '|0>', '|0>', '|1>', '|0>', '|1>', '|0>', '|0>', '|0>', '|0>', '|0>', '|1>', '|1>', '|0>', '|1>', '|1>', '|0>', '|1>', '|0>', '|1>', '|0>', '|0>', '|0>', '|1>', '|1>', '|1>', '|1>', '|0>', '|1>', '|0>', '|1>', '|1>', '|1>', '|1>', '|1>', '|0>', '|0>', '|1>', '|1>', '|1>', '|0>', '|1>', '|0>', '|0>', '|1>', '|1>', '|0>', '|0>', '|0>', '|1>', '|0>', '|1>', '|0>', '|1>', '|0>', '|0>', '|1>', '|1>', '|0>', '|0>', '|0>', '|1>', '|1>', '|0>', '|0>', '|1>', '|0>', '|1>', '|0>', '|0>', '|0>', '|0>', '|0>', '|0>', '|0>', '|1>', '|0>', '|1>', '|0>', '|0>', '|0>', '|0>', '|1>', '|0>', '|1>', '|0>', '|0>', '|0>', '|1>', '|0>', '|1>', '|0>', '|1>', '|0>', '|1>', '|0>', '|0>', '|1>', '|1>', '|0>', '|1>', '|1>', '|1>', '|1>', '|1>', '|0>', '|1>', '|0>', '|1>', '|0>', '|1>', '|0>', '|0>', '|0>', '|0>', '|1>', '|1>', '|1>', '|0>', '|0>', '|1>', '|0>', '|0>', '|1>', '|0>', '|1>', '|1>', '|1>', '|0>', '|0>', '|1>', '|0>', '|0>', '|0>', '|0>', '|1>', '|1>', '|0>', '|0>', '|1>', '|0>', '|0>', '|0>', '|1>', '|1>', '|0>', '|1>', '|1>', '|1>', '|0>', '|0>', '|0>', '|1>', '|1>', '|1>', '|1>', '|1>', '|0>', '|0>', '|1>', '|1>', '|0>', '|0>', '|1>', '|0>', '|0>', '|1>', '|0>', '|0>', '|0>', '|0>', '|1>', '|0>', '|0>', '|0>', '|0>', '|1>', '|0>', '|0>', '|0>', '|0>', '|1>', '|0>', '|0>', '|0>', '|1>', '|1>', '|1>', '|1>', '|1>', '|1>', '|1>', '|1>', '|1>', '|1>', '|1>', '|1>', '|0>', '|0>', '|1>', '|1>', '|1>', '|1>', '|1>', '|1>', '|1>', '|1>', '|0>', '|0>', '|1>', '|1>', '|1>', '|1>', '|1>', '|1>', '|1>', '|1>', '|1>', '|0>', '|0>', '|1>', '|1>', '|1>', '|1>', '|1>', '|0>', '|1>', '|1>', '|0>', '|0>', '|1>', '|1>', '|1>', '|1>', '|0>', '|0>', '|1>', '|0>', '|1>', '|1>', '|1>', '|1>', '|1>', '|1>', '|1>', '|1>', '|1>', '|1>', '|1>', '|0>', '|1>', '|1>', '|1>', '|1>', '|1>', '|0>', '|1>', '|0>', '|0>', '|0>', '|0>', '|1>', '|1>', '|1>', '|1>', '|1>', '|1>', '|0>', '|1>', '|0>', '|1>', '|1>', '|1>', '|0>', '|1>', '|1>', '|0>', '|0>', '|1>', '|0>', '|1>', '|0>', '|0>', '|0>', '|1>', '|1>', '|1>', '|1>', '|0>', '|0>', '|1>', '|1>', '|1>', '|1>', '|1>', '|1>', '|0>', '|0>', '|1>', '|0>', '|0>', '|1>', '|1>', '|1>', '|0>', '|0>', '|0>', '|1>', '|1>', '|1>', '|1>', '|1>', '|1>', '|1>', '|1>', '|0>', '|1>', '|0>', '|0>', '|1>', '|1>', '|1>', '|0>', '|1>', '|1>', '|1>', '|1>', '|0>', '|0>', '|1>', '|1>', '|1>', '|1>', '|1>', '|1>', '|1>', '|0>', '|0>', '|0>', '|1>', '|0>', '|0>', '|0>', '|0>', '|1>', '|0>', '|0>', '|1>', '|1>', '|1>', '|1>', '|1>', '|0>']\n"
          ]
        }
      ]
    },
    {
      "cell_type": "code",
      "source": [
        "# Decoding the DNA sequence\n",
        "decoded = huffman_decoding(encoded, encodings)\n",
        "print('Decoded DNA Sequence:', decoded)"
      ],
      "metadata": {
        "colab": {
          "base_uri": "https://localhost:8080/"
        },
        "id": "5Bh06N3u2421",
        "outputId": "bcaa5b0e-447f-47f6-887d-957ca986ba2e"
      },
      "execution_count": 7,
      "outputs": [
        {
          "output_type": "stream",
          "name": "stdout",
          "text": [
            "Decoded DNA Sequence: TGTGCCTTCTAGTTGCCAGCCATCTGTTGTTTGCCCCTCCCCCGTGCCTTCCTTGACCCTGGAAGGTGCCACTCCCACTGTCCTTTCCTAATAAAATGAGGAAATTGCATCGCATTGTCTGAGTAGGTGTCATTCTATTCTGGGGGGTGGGGTGGGGCAGGACAGCAAGGGGGAGGATTGGGAAGACAATAGCAGGCATGCTGGGGATGCGGTGGGCTCTATGGC\n"
          ]
        }
      ]
    }
  ]
}