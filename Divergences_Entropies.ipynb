{
  "nbformat": 4,
  "nbformat_minor": 0,
  "metadata": {
    "colab": {
      "provenance": []
    },
    "kernelspec": {
      "name": "python3",
      "display_name": "Python 3"
    },
    "language_info": {
      "name": "python"
    }
  },
  "cells": [
    {
      "cell_type": "code",
      "source": [
        "# Packages\n",
        "\n",
        "import numpy as np"
      ],
      "metadata": {
        "id": "LI8I2WF-BUTj"
      },
      "execution_count": 1,
      "outputs": []
    },
    {
      "cell_type": "markdown",
      "source": [
        "# Kullback-Liebler Divergence: $D_{KL}(P||Q)=\\sum_{\\text{all bases}}P(b)\\log\\left[\\frac{P(b)}{Q(b)}\\right]$"
      ],
      "metadata": {
        "id": "JCuv6F-xBhTo"
      }
    },
    {
      "cell_type": "markdown",
      "source": [
        "#Jensen-Shannon Divergence: $D_{JS}(P||Q)=\\frac{D_{KL}(P||M)+D_{KL}(Q||M)}{2},M=\\frac{P+Q}{2}$"
      ],
      "metadata": {
        "id": "bUtxIoZyCx7z"
      }
    },
    {
      "cell_type": "markdown",
      "source": [
        "#Bhattacharyya Divergence: $D_{B}(P||Q)=-\\log\\left[\\sum_{\\text{all bases}}\\sqrt{P(b)\\times Q(b)}\\right]$"
      ],
      "metadata": {
        "id": "QDRC_aPKEhUu"
      }
    },
    {
      "cell_type": "code",
      "execution_count": 2,
      "metadata": {
        "id": "pcvOeynGBPrH"
      },
      "outputs": [],
      "source": [
        "def kl_divergence(p, q):\n",
        "    p = np.asarray(p, dtype = np.float)\n",
        "    q = np.asarray(q, dtype = np.float)\n",
        "    return np.sum(np.where(p != 0, p * np.log(p / q), 0))\n",
        "\n",
        "def js_divergence(p, q):\n",
        "    p = np.asarray(p, dtype=np.float)\n",
        "    q = np.asarray(q, dtype=np.float)\n",
        "    m = 0.5 * (p + q)\n",
        "    return 0.5 * kl_divergence(p, m) + 0.5 * kl_divergence(q, m)\n",
        "\n",
        "def bhattacharyya_distance(p, q):\n",
        "    p = np.asarray(p, dtype = np.float)\n",
        "    q = np.asarray(q, dtype = np.float)\n",
        "    return -np.log(np.sum(np.sqrt(p * q)))"
      ]
    },
    {
      "cell_type": "code",
      "source": [
        "# Example: \n",
        "\n",
        "'''\n",
        "P(T) = 3/10, Q(T) = 2/10\n",
        "P(A) = 3/10, Q(A) = 3/10\n",
        "P(C) = 2/10, Q(C) = 3/10\n",
        "P(G) = 2/10, Q(G) = 2/10\n",
        "'''\n",
        "\n",
        "p = [0.3, 0.3, 0.2, 0.2]\n",
        "q = [0.2, 0.3, 0.3, 0.2]\n",
        "\n",
        "print(\"KL Divergence:\", kl_divergence(p, q))\n",
        "print(\"JS Divergence:\", js_divergence(p, q))\n",
        "print(\"Bhattacharyya Divergence:\", bhattacharyya_distance(p, q))"
      ],
      "metadata": {
        "colab": {
          "base_uri": "https://localhost:8080/"
        },
        "id": "5j7TZmeIFPua",
        "outputId": "28f5b5ed-3c6e-4d63-d025-a5ccdc104c2b"
      },
      "execution_count": 3,
      "outputs": [
        {
          "output_type": "stream",
          "name": "stdout",
          "text": [
            "KL Divergence: 0.04054651081081641\n",
            "JS Divergence: 0.010067756775344432\n",
            "Bhattacharyya Divergence: 0.01015342343286813\n"
          ]
        },
        {
          "output_type": "stream",
          "name": "stderr",
          "text": [
            "<ipython-input-2-842b7f003ce9>:2: DeprecationWarning: `np.float` is a deprecated alias for the builtin `float`. To silence this warning, use `float` by itself. Doing this will not modify any behavior and is safe. If you specifically wanted the numpy scalar type, use `np.float64` here.\n",
            "Deprecated in NumPy 1.20; for more details and guidance: https://numpy.org/devdocs/release/1.20.0-notes.html#deprecations\n",
            "  p = np.asarray(p, dtype = np.float)\n",
            "<ipython-input-2-842b7f003ce9>:3: DeprecationWarning: `np.float` is a deprecated alias for the builtin `float`. To silence this warning, use `float` by itself. Doing this will not modify any behavior and is safe. If you specifically wanted the numpy scalar type, use `np.float64` here.\n",
            "Deprecated in NumPy 1.20; for more details and guidance: https://numpy.org/devdocs/release/1.20.0-notes.html#deprecations\n",
            "  q = np.asarray(q, dtype = np.float)\n",
            "<ipython-input-2-842b7f003ce9>:7: DeprecationWarning: `np.float` is a deprecated alias for the builtin `float`. To silence this warning, use `float` by itself. Doing this will not modify any behavior and is safe. If you specifically wanted the numpy scalar type, use `np.float64` here.\n",
            "Deprecated in NumPy 1.20; for more details and guidance: https://numpy.org/devdocs/release/1.20.0-notes.html#deprecations\n",
            "  p = np.asarray(p, dtype=np.float)\n",
            "<ipython-input-2-842b7f003ce9>:8: DeprecationWarning: `np.float` is a deprecated alias for the builtin `float`. To silence this warning, use `float` by itself. Doing this will not modify any behavior and is safe. If you specifically wanted the numpy scalar type, use `np.float64` here.\n",
            "Deprecated in NumPy 1.20; for more details and guidance: https://numpy.org/devdocs/release/1.20.0-notes.html#deprecations\n",
            "  q = np.asarray(q, dtype=np.float)\n",
            "<ipython-input-2-842b7f003ce9>:13: DeprecationWarning: `np.float` is a deprecated alias for the builtin `float`. To silence this warning, use `float` by itself. Doing this will not modify any behavior and is safe. If you specifically wanted the numpy scalar type, use `np.float64` here.\n",
            "Deprecated in NumPy 1.20; for more details and guidance: https://numpy.org/devdocs/release/1.20.0-notes.html#deprecations\n",
            "  p = np.asarray(p, dtype = np.float)\n",
            "<ipython-input-2-842b7f003ce9>:14: DeprecationWarning: `np.float` is a deprecated alias for the builtin `float`. To silence this warning, use `float` by itself. Doing this will not modify any behavior and is safe. If you specifically wanted the numpy scalar type, use `np.float64` here.\n",
            "Deprecated in NumPy 1.20; for more details and guidance: https://numpy.org/devdocs/release/1.20.0-notes.html#deprecations\n",
            "  q = np.asarray(q, dtype = np.float)\n"
          ]
        }
      ]
    }
  ]
}