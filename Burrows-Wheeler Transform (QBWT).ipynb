{
 "cells": [
  {
   "cell_type": "markdown",
   "id": "e1d4878e-e00b-4de8-b7cd-1ef0528cf11d",
   "metadata": {},
   "source": [
    "# Burrows-Wheeler Transform (QBWT)"
   ]
  },
  {
   "cell_type": "code",
   "execution_count": 2,
   "id": "554fb47d-bae2-487b-bfed-1a658a95f674",
   "metadata": {},
   "outputs": [
    {
     "name": "stderr",
     "output_type": "stream",
     "text": [
      "<frozen importlib._bootstrap>:219: RuntimeWarning: scipy._lib.messagestream.MessageStream size changed, may indicate binary incompatibility. Expected 56 from C header, got 64 from PyObject\n"
     ]
    }
   ],
   "source": [
    "import numpy as np\n",
    "\n",
    "# Importing standard Qiskit libraries\n",
    "from qiskit import QuantumCircuit, transpile, Aer, IBMQ\n",
    "from qiskit.tools.jupyter import *\n",
    "from qiskit.visualization import *\n",
    "from ibm_quantum_widgets import *\n",
    "from qiskit.providers.aer import QasmSimulator\n",
    "\n",
    "# Loading your IBM Quantum account(s)\n",
    "provider = IBMQ.load_account()"
   ]
  },
  {
   "cell_type": "code",
   "execution_count": 16,
   "id": "b00e5df9-2670-43a8-921b-2521d9c9287a",
   "metadata": {},
   "outputs": [],
   "source": [
    "def cyc_perm(seq):\n",
    "    # Compute all cyclic permutations of seq\n",
    "    perms = [seq[i:] + seq[:i] for i in range(len(seq))]\n",
    "    # Remove duplicates\n",
    "    unique_perms = list(set(perms))\n",
    "    return unique_perms\n",
    "\n",
    "def arrange(seq):\n",
    "    # Alphabetically arrange all permutations of seq\n",
    "    perms = cyc_perm(seq)\n",
    "    sorted_perms = sorted(perms)\n",
    "    return sorted_perms\n",
    "\n",
    "def extract(perms):\n",
    "    # Extract the last base from each permutation\n",
    "    terminal_bases = [perm[-1] for perm in perms]\n",
    "    return terminal_bases\n",
    "\n",
    "def qbwt(seq):\n",
    "    # Initialize quantum circuit with n qubits\n",
    "    n = len(seq)\n",
    "    qreg = QuantumRegister(n, 'q')\n",
    "    qc = QuantumCircuit(qreg)\n",
    "\n",
    "    # Apply BW transform classically\n",
    "    perms = arrange(seq)\n",
    "    bwt = ''.join([perm[-1] for perm in perms])\n",
    "\n",
    "    # Apply quantum phase estimation\n",
    "    for i, base in enumerate(seq):\n",
    "        # Count number of occurrences of base in bwt\n",
    "        count = bwt.count(base)\n",
    "        # Apply rotation gate\n",
    "        theta = 2 * np.pi * count / n\n",
    "        qc.ry(theta, qreg[i])\n",
    "        qc.h(qreg[i])\n",
    "    \n",
    "    # Measure all qubits\n",
    "    qc.measure_all()\n",
    "\n",
    "    # Run the circuit on a simulator\n",
    "    backend = Aer.get_backend('qasm_simulator')\n",
    "    job = execute(qc, backend, shots=1024)\n",
    "    result = job.result()\n",
    "\n",
    "    # Return the counts of each measurement outcome\n",
    "    counts = result.get_counts(qc)\n",
    "    return counts\n"
   ]
  },
  {
   "cell_type": "code",
   "execution_count": 13,
   "id": "bb7ceb6b-9baf-4f12-ad9e-743b70f694f2",
   "metadata": {},
   "outputs": [
    {
     "name": "stdout",
     "output_type": "stream",
     "text": [
      "{'00100000000': 5, '00010010000': 1, '00000001100': 1, '00000000010': 6, '00001000000': 6, '00010010100': 1, '00000000001': 2, '00000000100': 36, '00000010000': 6, '01000000000': 4, '00000000000': 894, '00010000001': 1, '10000000000': 6, '00010000100': 1, '00000100000': 2, '00000001000': 4, '00010000000': 48}\n"
     ]
    },
    {
     "data": {
      "image/png": "[encoded data removed]",
      "text/plain": [
       "<Figure size 504x360 with 1 Axes>"
      ]
     },
     "execution_count": 13,
     "metadata": {},
     "output_type": "execute_result"
    }
   ],
   "source": [
    "seq =  \"ACTGACGTAGC\"\n",
    "counts = qbwt(seq)\n",
    "print(counts)\n",
    "hist = plot_histogram(counts, sort='value_desc')\n",
    "plot_histogram(counts)"
   ]
  }
 ],
 "metadata": {
  "kernelspec": {
   "display_name": "Python 3 (ipykernel)",
   "language": "python",
   "name": "python3"
  },
  "language_info": {
   "codemirror_mode": {
    "name": "ipython",
    "version": 3
   },
   "file_extension": ".py",
   "mimetype": "text/x-python",
   "name": "python",
   "nbconvert_exporter": "python",
   "pygments_lexer": "ipython3",
   "version": "3.8.15"
  },
  "widgets": {
   "application/vnd.jupyter.widget-state+json": {
    "state": {
     "04a8daf9508c45d195ee2b947a9c61d5": {
      "model_module": "@jupyter-widgets/base",
      "model_module_version": "1.2.0",
      "model_name": "LayoutModel",
      "state": {
       "margin": "0px 0px 0px 37px",
       "width": "600px"
      }
     },
     "0b4b7bade4ab4e839a529d70733319fc": {
      "model_module": "@jupyter-widgets/base",
      "model_module_version": "1.2.0",
      "model_name": "LayoutModel",
      "state": {
       "width": "95px"
      }
     },
     "1b30de60fe89440ab111aa5beb782196": {
      "model_module": "@jupyter-widgets/controls",
      "model_module_version": "1.5.0",
      "model_name": "ButtonModel",
      "state": {
       "button_style": "primary",
       "description": "Clear",
       "layout": "IPY_MODEL_bd4350ae1dab44cabed190d38e0f6ef8",
       "style": "IPY_MODEL_b41544fa176549a1af4286d8ce0e5687"
      }
     },
     "1f8d812552d1444689ff99b63987a06c": {
      "model_module": "@jupyter-widgets/controls",
      "model_module_version": "1.5.0",
      "model_name": "DescriptionStyleModel",
      "state": {
       "description_width": ""
      }
     },
     "320f1cdbb2a146bfb153804500d708ff": {
      "model_module": "@jupyter-widgets/controls",
      "model_module_version": "1.5.0",
      "model_name": "DescriptionStyleModel",
      "state": {
       "description_width": ""
      }
     },
     "41fd7d833aeb4628832ad379b947cc62": {
      "model_module": "@jupyter-widgets/controls",
      "model_module_version": "1.5.0",
      "model_name": "DescriptionStyleModel",
      "state": {
       "description_width": ""
      }
     },
     "512573f0de6d486faf8b5c774aa85684": {
      "model_module": "@jupyter-widgets/controls",
      "model_module_version": "1.5.0",
      "model_name": "HBoxModel",
      "state": {
       "children": [
        "IPY_MODEL_797092c2ecf04fb19b7efe810e42fc83",
        "IPY_MODEL_6889aa11575b4008bcdb595af2afb59e",
        "IPY_MODEL_98d2141c551444cb83fd7cea927ccf0a",
        "IPY_MODEL_9b810d4f7c4340c8b55de1ebca213492",
        "IPY_MODEL_6c051fe3562d4c18b5eb74d0bee226ec"
       ],
       "layout": "IPY_MODEL_04a8daf9508c45d195ee2b947a9c61d5"
      }
     },
     "5dfd74317c214643b55f38b81fae08aa": {
      "model_module": "@jupyter-widgets/base",
      "model_module_version": "1.2.0",
      "model_name": "LayoutModel",
      "state": {}
     },
     "604a9d80c7834deb9daf8a5607e73ea2": {
      "model_module": "@jupyter-widgets/base",
      "model_module_version": "1.2.0",
      "model_name": "LayoutModel",
      "state": {
       "margin": "0px 0px 10px 0px"
      }
     },
     "6889aa11575b4008bcdb595af2afb59e": {
      "model_module": "@jupyter-widgets/controls",
      "model_module_version": "1.5.0",
      "model_name": "HTMLModel",
      "state": {
       "layout": "IPY_MODEL_e9375f3b429840679b890e8267c0940e",
       "style": "IPY_MODEL_84d1e924e5394b50acb1ddb1cbf74a03",
       "value": "<h5>Backend</h5>"
      }
     },
     "6c051fe3562d4c18b5eb74d0bee226ec": {
      "model_module": "@jupyter-widgets/controls",
      "model_module_version": "1.5.0",
      "model_name": "HTMLModel",
      "state": {
       "layout": "IPY_MODEL_5dfd74317c214643b55f38b81fae08aa",
       "style": "IPY_MODEL_320f1cdbb2a146bfb153804500d708ff",
       "value": "<h5>Message</h5>"
      }
     },
     "797092c2ecf04fb19b7efe810e42fc83": {
      "model_module": "@jupyter-widgets/controls",
      "model_module_version": "1.5.0",
      "model_name": "HTMLModel",
      "state": {
       "layout": "IPY_MODEL_ea6a8f20261140638fc594cd0188e565",
       "style": "IPY_MODEL_b5b61d7cc13748d0b69668d15752da00",
       "value": "<h5>Job ID</h5>"
      }
     },
     "84d1e924e5394b50acb1ddb1cbf74a03": {
      "model_module": "@jupyter-widgets/controls",
      "model_module_version": "1.5.0",
      "model_name": "DescriptionStyleModel",
      "state": {
       "description_width": ""
      }
     },
     "90aa92b40c784062b3135b6dc99bf74a": {
      "model_module": "@jupyter-widgets/base",
      "model_module_version": "1.2.0",
      "model_name": "LayoutModel",
      "state": {
       "grid_template_areas": "\n                                       \". . . . right \"\n                                        ",
       "grid_template_columns": "20% 20% 20% 20% 20%",
       "width": "100%"
      }
     },
     "98d2141c551444cb83fd7cea927ccf0a": {
      "model_module": "@jupyter-widgets/controls",
      "model_module_version": "1.5.0",
      "model_name": "HTMLModel",
      "state": {
       "layout": "IPY_MODEL_0b4b7bade4ab4e839a529d70733319fc",
       "style": "IPY_MODEL_41fd7d833aeb4628832ad379b947cc62",
       "value": "<h5>Status</h5>"
      }
     },
     "9b810d4f7c4340c8b55de1ebca213492": {
      "model_module": "@jupyter-widgets/controls",
      "model_module_version": "1.5.0",
      "model_name": "HTMLModel",
      "state": {
       "layout": "IPY_MODEL_e3a22c36d6804db28a2752accbe5924a",
       "style": "IPY_MODEL_1f8d812552d1444689ff99b63987a06c",
       "value": "<h5>Queue</h5>"
      }
     },
     "ac84fe9c1d994481b2e339882ea5aee2": {
      "model_module": "@jupyter-widgets/controls",
      "model_module_version": "1.5.0",
      "model_name": "GridBoxModel",
      "state": {
       "children": [
        "IPY_MODEL_1b30de60fe89440ab111aa5beb782196"
       ],
       "layout": "IPY_MODEL_90aa92b40c784062b3135b6dc99bf74a"
      }
     },
     "b41544fa176549a1af4286d8ce0e5687": {
      "model_module": "@jupyter-widgets/controls",
      "model_module_version": "1.5.0",
      "model_name": "ButtonStyleModel",
      "state": {}
     },
     "b5b61d7cc13748d0b69668d15752da00": {
      "model_module": "@jupyter-widgets/controls",
      "model_module_version": "1.5.0",
      "model_name": "DescriptionStyleModel",
      "state": {
       "description_width": ""
      }
     },
     "bd4350ae1dab44cabed190d38e0f6ef8": {
      "model_module": "@jupyter-widgets/base",
      "model_module_version": "1.2.0",
      "model_name": "LayoutModel",
      "state": {
       "grid_area": "right",
       "padding": "0px 0px 0px 0px",
       "width": "70px"
      }
     },
     "c00c598ca3f9493d8b654da203246feb": {
      "model_module": "@jupyter-widgets/controls",
      "model_module_version": "1.5.0",
      "model_name": "HTMLModel",
      "state": {
       "layout": "IPY_MODEL_604a9d80c7834deb9daf8a5607e73ea2",
       "style": "IPY_MODEL_c3046e8b71974fdcb8a4052378718b07",
       "value": "<p style='font-family: IBM Plex Sans, Arial, Helvetica, sans-serif; font-size: 20px; font-weight: medium;'>Circuit Properties</p>"
      }
     },
     "c3046e8b71974fdcb8a4052378718b07": {
      "model_module": "@jupyter-widgets/controls",
      "model_module_version": "1.5.0",
      "model_name": "DescriptionStyleModel",
      "state": {
       "description_width": ""
      }
     },
     "e3a22c36d6804db28a2752accbe5924a": {
      "model_module": "@jupyter-widgets/base",
      "model_module_version": "1.2.0",
      "model_name": "LayoutModel",
      "state": {
       "width": "70px"
      }
     },
     "e9375f3b429840679b890e8267c0940e": {
      "model_module": "@jupyter-widgets/base",
      "model_module_version": "1.2.0",
      "model_name": "LayoutModel",
      "state": {
       "width": "145px"
      }
     },
     "ea6a8f20261140638fc594cd0188e565": {
      "model_module": "@jupyter-widgets/base",
      "model_module_version": "1.2.0",
      "model_name": "LayoutModel",
      "state": {
       "width": "190px"
      }
     }
    },
    "version_major": 2,
    "version_minor": 0
   }
  }
 },
 "nbformat": 4,
 "nbformat_minor": 5
}
